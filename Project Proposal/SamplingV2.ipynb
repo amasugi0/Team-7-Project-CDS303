{
 "cells": [
  {
   "cell_type": "code",
   "execution_count": 3,
   "id": "014374b4",
   "metadata": {},
   "outputs": [
    {
     "name": "stdout",
     "output_type": "stream",
     "text": [
      "<class 'dict'>\n",
      "<class 'sklearn.tree._classes.DecisionTreeClassifier'>\n",
      "0.6571428571428571\n"
     ]
    },
    {
     "data": {
      "text/plain": [
       "'Stroke_Tree_Classifier.pdf.pdf'"
      ]
     },
     "execution_count": 3,
     "metadata": {},
     "output_type": "execute_result"
    },
    {
     "data": {
      "text/plain": [
       "<Figure size 1600x1000 with 0 Axes>"
      ]
     },
     "metadata": {},
     "output_type": "display_data"
    }
   ],
   "source": [
    "import graphviz\n",
    "import matplotlib.pyplot as plt\n",
    "import pandas as pd\n",
    "from imblearn.under_sampling import RandomUnderSampler\n",
    "from sklearn import tree\n",
    "from sklearn.experimental import enable_halving_search_cv\n",
    "from sklearn.model_selection import GridSearchCV\n",
    "from sklearn.model_selection import train_test_split\n",
    "\n",
    "# Load the data from an excel file\n",
    "\n",
    "stroke_dataframe = pd.read_csv(\"Stroke_Dataset.csv\")\n",
    "\n",
    "# Seperate the target variable from the main dataframe\n",
    "\n",
    "targets = stroke_dataframe[\"Stroke\"]\n",
    "del stroke_dataframe[\"Stroke\"]\n",
    "del stroke_dataframe[\"id\"]\n",
    "\n",
    "# Since the target classes are unbalanced, we must randomly sample from the non stroke instances till we have a 1:1\n",
    "# ratio\n",
    "\n",
    "\n",
    "under = RandomUnderSampler(sampling_strategy=1)\n",
    "X, y = under.fit_resample(stroke_dataframe, targets)\n",
    "\n",
    "# Split the data into training and testing sets\n",
    "\n",
    "X_train, x_test, Y_train, y_test = train_test_split(X, y, test_size=0.25)\n",
    "\n",
    "# Create a decision tree classifier\n",
    "\n",
    "base_model = tree.DecisionTreeClassifier(random_state=0)\n",
    "\n",
    "# Fine tune the hyper parameters of the model\n",
    "\n",
    "search_space = {\"criterion\": [\"gini\", \"entropy\"],\n",
    "                \"max_depth\": [2, 3, 4, 5, 6],\n",
    "                \"min_samples_split\": [5, 10, 15, 20],\n",
    "                \"min_samples_leaf\": [2, 3, 4, 5, 10, 15, 20, 25]}\n",
    "\n",
    "\n",
    "GS = GridSearchCV(estimator=base_model, param_grid=search_space, refit=True)\n",
    "GS.fit(X_train, Y_train)\n",
    "\n",
    "# Figure out what the optimal hyper parameters are\n",
    "\n",
    "print(type(GS.best_params_))\n",
    "fitted_model = GS.best_estimator_\n",
    "print(type(fitted_model))\n",
    "\n",
    "print(fitted_model.score(x_test, y_test))\n",
    "\n",
    "\n",
    "# Create visualization of decision tree using graphviz\n",
    "\n",
    "plt.figure(figsize=(16, 10))\n",
    "dot_data = tree.export_graphviz(fitted_model, feature_names=list(stroke_dataframe.columns),\n",
    "                                class_names=[\"No Stroke\", \"Stroke\"], filled=True, rounded=True,\n",
    "                                special_characters=True)\n",
    "\n",
    "graph = graphviz.Source(dot_data)\n",
    "graph.render(\"Stroke_Tree_Classifier.pdf\")"
   ]
  },
  {
   "cell_type": "code",
   "execution_count": null,
   "id": "5d06f469",
   "metadata": {},
   "outputs": [],
   "source": []
  }
 ],
 "metadata": {
  "kernelspec": {
   "display_name": "Python 3 (ipykernel)",
   "language": "python",
   "name": "python3"
  },
  "language_info": {
   "codemirror_mode": {
    "name": "ipython",
    "version": 3
   },
   "file_extension": ".py",
   "mimetype": "text/x-python",
   "name": "python",
   "nbconvert_exporter": "python",
   "pygments_lexer": "ipython3",
   "version": "3.9.13"
  }
 },
 "nbformat": 4,
 "nbformat_minor": 5
}
