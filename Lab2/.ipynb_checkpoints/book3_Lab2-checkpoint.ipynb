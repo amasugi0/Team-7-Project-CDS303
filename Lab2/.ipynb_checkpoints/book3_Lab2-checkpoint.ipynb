{
 "cells": [
  {
   "cell_type": "markdown",
   "id": "14020a0f",
   "metadata": {},
   "source": [
    "# Book 3 (Insert name)"
   ]
  },
  {
   "cell_type": "markdown",
   "id": "d4f20ed8",
   "metadata": {},
   "source": [
    "### Encoding"
   ]
  },
  {
   "cell_type": "code",
   "execution_count": 1,
   "id": "bb8fa97e",
   "metadata": {},
   "outputs": [
    {
     "ename": "NameError",
     "evalue": "name 'twitch_data' is not defined",
     "output_type": "error",
     "traceback": [
      "\u001b[0;31m---------------------------------------------------------------------------\u001b[0m",
      "\u001b[0;31mNameError\u001b[0m                                 Traceback (most recent call last)",
      "\u001b[0;32m/var/folders/cx/fsmrxmq1403bz2c5rmvbfx380000gn/T/ipykernel_3654/1088378894.py\u001b[0m in \u001b[0;36m<module>\u001b[0;34m\u001b[0m\n\u001b[0;32m----> 1\u001b[0;31m \u001b[0mtwitch_data\u001b[0m\u001b[0;34m.\u001b[0m\u001b[0mdropna\u001b[0m\u001b[0;34m(\u001b[0m\u001b[0minplace\u001b[0m\u001b[0;34m=\u001b[0m\u001b[0;32mTrue\u001b[0m\u001b[0;34m)\u001b[0m\u001b[0;34m\u001b[0m\u001b[0;34m\u001b[0m\u001b[0m\n\u001b[0m\u001b[1;32m      2\u001b[0m \u001b[0mcodes\u001b[0m \u001b[0;34m=\u001b[0m \u001b[0mcat_encoder\u001b[0m\u001b[0;34m.\u001b[0m\u001b[0mfit_transform\u001b[0m\u001b[0;34m(\u001b[0m\u001b[0mtwitch_data\u001b[0m\u001b[0;34m[\u001b[0m\u001b[0;34m[\u001b[0m\u001b[0;34m\"Watch time(Minutes)\"\u001b[0m\u001b[0;34m,\u001b[0m \u001b[0;34m\"Peak viewers\"\u001b[0m\u001b[0;34m,\u001b[0m \u001b[0;34m\"Average viewers\"\u001b[0m\u001b[0;34m,\u001b[0m \u001b[0;34m\"Followers\"\u001b[0m\u001b[0;34m,\u001b[0m \u001b[0;34m\"Partnered\"\u001b[0m\u001b[0;34m,\u001b[0m \u001b[0;34m\"Mature\"\u001b[0m\u001b[0;34m,\u001b[0m \u001b[0;34m\"Stream time(minutes)\"\u001b[0m\u001b[0;34m,\u001b[0m \u001b[0;34m\"Followers gained\"\u001b[0m\u001b[0;34m,\u001b[0m \u001b[0;34m\"Views gained\"\u001b[0m\u001b[0;34m,\u001b[0m \u001b[0;34m\"Language\"\u001b[0m\u001b[0;34m]\u001b[0m\u001b[0;34m]\u001b[0m\u001b[0;34m)\u001b[0m\u001b[0;34m\u001b[0m\u001b[0;34m\u001b[0m\u001b[0m\n\u001b[1;32m      3\u001b[0m \u001b[0mnames\u001b[0m \u001b[0;34m=\u001b[0m \u001b[0mcat_encoder\u001b[0m\u001b[0;34m.\u001b[0m\u001b[0mget_feature_names_out\u001b[0m\u001b[0;34m(\u001b[0m\u001b[0;34m)\u001b[0m\u001b[0;34m\u001b[0m\u001b[0;34m\u001b[0m\u001b[0m\n\u001b[1;32m      4\u001b[0m \u001b[0mcodes_df\u001b[0m \u001b[0;34m=\u001b[0m \u001b[0mpd\u001b[0m\u001b[0;34m.\u001b[0m\u001b[0mDataFrame\u001b[0m\u001b[0;34m(\u001b[0m\u001b[0mcodes\u001b[0m\u001b[0;34m.\u001b[0m\u001b[0mtodense\u001b[0m\u001b[0;34m(\u001b[0m\u001b[0;34m)\u001b[0m\u001b[0;34m,\u001b[0m \u001b[0mcolumns\u001b[0m \u001b[0;34m=\u001b[0m \u001b[0mnames\u001b[0m\u001b[0;34m)\u001b[0m\u001b[0;34m\u001b[0m\u001b[0;34m\u001b[0m\u001b[0m\n\u001b[1;32m      5\u001b[0m \u001b[0mdata1\u001b[0m \u001b[0;34m=\u001b[0m \u001b[0mtwitch_data\u001b[0m\u001b[0;34m.\u001b[0m\u001b[0mdrop\u001b[0m\u001b[0;34m(\u001b[0m\u001b[0;34m[\u001b[0m\u001b[0;34m\"Watch time(Minutes)\"\u001b[0m\u001b[0;34m,\u001b[0m \u001b[0;34m\"Peak viewers\"\u001b[0m\u001b[0;34m,\u001b[0m \u001b[0;34m\"Average viewers\"\u001b[0m\u001b[0;34m,\u001b[0m \u001b[0;34m\"Followers\"\u001b[0m\u001b[0;34m,\u001b[0m \u001b[0;34m\"Partnered\"\u001b[0m\u001b[0;34m,\u001b[0m \u001b[0;34m\"Mature\"\u001b[0m\u001b[0;34m,\u001b[0m \u001b[0;34m\"Stream time(minutes)\"\u001b[0m\u001b[0;34m,\u001b[0m \u001b[0;34m\"Followers gained\"\u001b[0m\u001b[0;34m,\u001b[0m \u001b[0;34m\"Views gained\"\u001b[0m\u001b[0;34m,\u001b[0m \u001b[0;34m\"Language\"\u001b[0m\u001b[0;34m]\u001b[0m\u001b[0;34m,\u001b[0m \u001b[0maxis\u001b[0m\u001b[0;34m=\u001b[0m\u001b[0;36m1\u001b[0m\u001b[0;34m)\u001b[0m\u001b[0;34m\u001b[0m\u001b[0;34m\u001b[0m\u001b[0m\n",
      "\u001b[0;31mNameError\u001b[0m: name 'twitch_data' is not defined"
     ]
    }
   ],
   "source": [
    "twitch_data.dropna(inplace=True)\n",
    "\n",
    "codes = cat_encoder.fit_transform(twitch_data[[\"Watch time(Minutes)\", \"Peak viewers\", \"Average viewers\", \"Followers\", \"Partnered\", \"Mature\", \"Stream time(minutes)\", \"Followers gained\", \"Views gained\", \"Language\"]])\n",
    "names = cat_encoder.get_feature_names_out()\n",
    "\n",
    "codes_df = pd.DataFrame(codes.todense(), columns = names)\n",
    "data1 = twitch_data.drop([\"Watch time(Minutes)\", \"Peak viewers\", \"Average viewers\", \"Followers\", \"Partnered\", \"Mature\", \"Stream time(minutes)\", \"Followers gained\", \"Views gained\", \"Language\"], axis=1)\n",
    "\n",
    "df = pd.merge(codes_df, data1, left_index=True, right_index=True)\n",
    "df.replace([0,1],[False,True], inplace=True)\n",
    "\n",
    "df"
   ]
  }
 ],
 "metadata": {
  "kernelspec": {
   "display_name": "Python 3 (ipykernel)",
   "language": "python",
   "name": "python3"
  },
  "language_info": {
   "codemirror_mode": {
    "name": "ipython",
    "version": 3
   },
   "file_extension": ".py",
   "mimetype": "text/x-python",
   "name": "python",
   "nbconvert_exporter": "python",
   "pygments_lexer": "ipython3",
   "version": "3.9.13"
  }
 },
 "nbformat": 4,
 "nbformat_minor": 5
}
