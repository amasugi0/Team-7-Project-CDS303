{
 "cells": [
  {
   "cell_type": "markdown",
   "id": "24e97259",
   "metadata": {},
   "source": [
    "# Book 4 (Yuta Sugiyama)"
   ]
  },
  {
   "cell_type": "markdown",
   "id": "aa1a3596",
   "metadata": {},
   "source": [
    "## Clustering Data"
   ]
  },
  {
   "cell_type": "markdown",
   "id": "319bb4d9",
   "metadata": {},
   "source": [
    "Previous code from class when lab 1 was introduced with just Kmeans"
   ]
  },
  {
   "cell_type": "code",
   "execution_count": 1,
   "id": "fb83570f",
   "metadata": {},
   "outputs": [],
   "source": [
    "#model = KMeans(init = \"k-means++\", n_clusters = 4)\n",
    "#model.fit(twitch_data)\n",
    "#sil_score = silhouette_score(twitch_data, model.labels_)\n",
    "#dav_score = davies_bouldin_score(twitch_data, model.labels_)\n",
    "#print(\"sil score is\", sil_score, \"dav score is\", dav_score)\n"
   ]
  },
  {
   "cell_type": "markdown",
   "id": "44807f58",
   "metadata": {},
   "source": [
    "### Updated Code "
   ]
  },
  {
   "cell_type": "markdown",
   "id": "8c1e978d",
   "metadata": {},
   "source": [
    "Setting Up Dictionaries"
   ]
  },
  {
   "cell_type": "code",
   "execution_count": null,
   "id": "de8fd46b",
   "metadata": {},
   "outputs": [],
   "source": [
    "model_dict = {\n",
    "    'hc' : AgglomerativeClustering(),\n",
    "    'km' : KMeans(),\n",
    "    'db' : DBSCAN(),\n",
    "    'af' : AffinityPropagation()\n",
    "    }\n",
    "\n",
    "param_dict = {\n",
    "    'hc' : ('affinity', ['euclidean'], 'n_clusters', np.round(np.linspace(2,20, 5),2)),\n",
    "    'km' : ('init', [\"k-means++\", \"random\"], 'n_clusters', np.round(np.linspace(2,20, 5),2)),\n",
    "    'db' : ('eps', np.linspace(.1, .3, 3), 'min_samples', np.round(np.linspace(2, 8, 6),2)),\n",
    "    'af' : ('damping', np.round(np.linspace(0.5, 0.9, 5),2), 'convergence_iter', np.round(np.linspace(5, 20, 5),2))\n",
    "    }"
   ]
  },
  {
   "cell_type": "markdown",
   "id": "1ee31c4e",
   "metadata": {},
   "source": [
    "Running the Model"
   ]
  },
  {
   "cell_type": "code",
   "execution_count": 6,
   "id": "27ab285d",
   "metadata": {},
   "outputs": [
    {
     "ename": "NameError",
     "evalue": "name 'itertools' is not defined",
     "output_type": "error",
     "traceback": [
      "\u001b[0;31m---------------------------------------------------------------------------\u001b[0m",
      "\u001b[0;31mNameError\u001b[0m                                 Traceback (most recent call last)",
      "\u001b[0;32m/var/folders/cx/fsmrxmq1403bz2c5rmvbfx380000gn/T/ipykernel_3493/1798022583.py\u001b[0m in \u001b[0;36m<module>\u001b[0;34m\u001b[0m\n\u001b[1;32m      4\u001b[0m \u001b[0;34m\u001b[0m\u001b[0m\n\u001b[1;32m      5\u001b[0m \u001b[0;32mfor\u001b[0m \u001b[0mi\u001b[0m \u001b[0;32min\u001b[0m \u001b[0;34m[\u001b[0m\u001b[0;34m'hc'\u001b[0m\u001b[0;34m,\u001b[0m \u001b[0;34m'km'\u001b[0m\u001b[0;34m,\u001b[0m \u001b[0;34m'db'\u001b[0m\u001b[0;34m,\u001b[0m \u001b[0;34m'af'\u001b[0m\u001b[0;34m]\u001b[0m\u001b[0;34m:\u001b[0m\u001b[0;34m\u001b[0m\u001b[0;34m\u001b[0m\u001b[0m\n\u001b[0;32m----> 6\u001b[0;31m     \u001b[0mparam_grid\u001b[0m \u001b[0;34m=\u001b[0m \u001b[0mlist\u001b[0m\u001b[0;34m(\u001b[0m\u001b[0mitertools\u001b[0m\u001b[0;34m.\u001b[0m\u001b[0mproduct\u001b[0m\u001b[0;34m(\u001b[0m\u001b[0mparam_dict\u001b[0m\u001b[0;34m[\u001b[0m\u001b[0mi\u001b[0m\u001b[0;34m]\u001b[0m\u001b[0;34m[\u001b[0m\u001b[0;36m1\u001b[0m\u001b[0;34m]\u001b[0m\u001b[0;34m,\u001b[0m \u001b[0mparam_dict\u001b[0m\u001b[0;34m[\u001b[0m\u001b[0mi\u001b[0m\u001b[0;34m]\u001b[0m\u001b[0;34m[\u001b[0m\u001b[0;36m3\u001b[0m\u001b[0;34m]\u001b[0m\u001b[0;34m)\u001b[0m\u001b[0;34m)\u001b[0m\u001b[0;34m\u001b[0m\u001b[0;34m\u001b[0m\u001b[0m\n\u001b[0m\u001b[1;32m      7\u001b[0m     \u001b[0;32mfor\u001b[0m \u001b[0mk\u001b[0m \u001b[0;32min\u001b[0m \u001b[0mrange\u001b[0m\u001b[0;34m(\u001b[0m\u001b[0mlen\u001b[0m\u001b[0;34m(\u001b[0m\u001b[0mparam_grid\u001b[0m\u001b[0;34m)\u001b[0m\u001b[0;34m)\u001b[0m\u001b[0;34m:\u001b[0m\u001b[0;34m\u001b[0m\u001b[0;34m\u001b[0m\u001b[0m\n\u001b[1;32m      8\u001b[0m         \u001b[0mparam_grid_dict\u001b[0m \u001b[0;34m=\u001b[0m \u001b[0;34m{\u001b[0m\u001b[0mparam_dict\u001b[0m\u001b[0;34m[\u001b[0m\u001b[0mi\u001b[0m\u001b[0;34m]\u001b[0m\u001b[0;34m[\u001b[0m\u001b[0;36m0\u001b[0m\u001b[0;34m]\u001b[0m \u001b[0;34m:\u001b[0m \u001b[0mparam_grid\u001b[0m\u001b[0;34m[\u001b[0m\u001b[0mk\u001b[0m\u001b[0;34m]\u001b[0m\u001b[0;34m[\u001b[0m\u001b[0;36m0\u001b[0m\u001b[0;34m]\u001b[0m\u001b[0;34m,\u001b[0m \u001b[0mparam_dict\u001b[0m\u001b[0;34m[\u001b[0m\u001b[0mi\u001b[0m\u001b[0;34m]\u001b[0m\u001b[0;34m[\u001b[0m\u001b[0;36m2\u001b[0m\u001b[0;34m]\u001b[0m \u001b[0;34m:\u001b[0m \u001b[0mint\u001b[0m\u001b[0;34m(\u001b[0m\u001b[0mparam_grid\u001b[0m\u001b[0;34m[\u001b[0m\u001b[0mk\u001b[0m\u001b[0;34m]\u001b[0m\u001b[0;34m[\u001b[0m\u001b[0;36m1\u001b[0m\u001b[0;34m]\u001b[0m\u001b[0;34m)\u001b[0m\u001b[0;34m}\u001b[0m\u001b[0;34m\u001b[0m\u001b[0;34m\u001b[0m\u001b[0m\n",
      "\u001b[0;31mNameError\u001b[0m: name 'itertools' is not defined"
     ]
    }
   ],
   "source": [
    "summary = []\n",
    "\n",
    "nbest = 5\n",
    "\n",
    "for i in ['hc', 'km', 'db', 'af']:\n",
    "    param_grid = list(itertools.product(param_dict[i][1], param_dict[i][3]))\n",
    "    for k in range(len(param_grid)):\n",
    "        param_grid_dict = {param_dict[i][0] : param_grid[k][0], param_dict[i][2] : int(param_grid[k][1])}\n",
    "        \n",
    "        model = model_dict[i]\n",
    "        model.set_params(**param_grid_dict)\n",
    "        model.fit(scaled_data)\n",
    "        \n",
    "        sil_score = silhouette_score(scaled_data, model.labels_)\n",
    "        dav_score = davies_bouldin_score(scaled_data, model.labels_)\n",
    "        \n",
    "        summary.append([i, param_dict[i][0], param_grid[k][0], param_dict[i][2], param_grid[k][1], sil_score, dav_score])\n",
    "        \n",
    "summary_df = pd.DataFrame(summary, columns=('model', 'param1', 'parval1', 'param2', 'parval2', 'sil score', 'dav score'))\n",
    "\n",
    "best_df = pd.concat([\n",
    "    (summary_df.nsmallest(nbest, 'dav score')), \n",
    "    (summary_df.nlargest(nbest, 'sil score'))], axis=0)\n",
    "\n",
    "print(best_df)"
   ]
  },
  {
   "cell_type": "code",
   "execution_count": null,
   "id": "a215a991",
   "metadata": {},
   "outputs": [],
   "source": []
  }
 ],
 "metadata": {
  "kernelspec": {
   "display_name": "Python 3 (ipykernel)",
   "language": "python",
   "name": "python3"
  },
  "language_info": {
   "codemirror_mode": {
    "name": "ipython",
    "version": 3
   },
   "file_extension": ".py",
   "mimetype": "text/x-python",
   "name": "python",
   "nbconvert_exporter": "python",
   "pygments_lexer": "ipython3",
   "version": "3.9.13"
  }
 },
 "nbformat": 4,
 "nbformat_minor": 5
}
